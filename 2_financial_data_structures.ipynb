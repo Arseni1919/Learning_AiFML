{
 "cells": [
  {
   "cell_type": "markdown",
   "metadata": {
    "collapsed": true,
    "pycharm": {
     "name": "#%% md\n"
    }
   },
   "source": [
    "# 2. Financial Data Structures"
   ]
  },
  {
   "cell_type": "code",
   "execution_count": 67,
   "outputs": [
    {
     "ename": "ModuleNotFoundError",
     "evalue": "No module named 'plotly'",
     "output_type": "error",
     "traceback": [
      "\u001B[0;31m---------------------------------------------------------------------------\u001B[0m",
      "\u001B[0;31mModuleNotFoundError\u001B[0m                       Traceback (most recent call last)",
      "\u001B[0;32m/var/folders/sd/9sq_fhy14jvdmsklx7t3snqw0000gn/T/ipykernel_17565/1537724042.py\u001B[0m in \u001B[0;36m<module>\u001B[0;34m\u001B[0m\n\u001B[1;32m      3\u001B[0m \u001B[0;32mimport\u001B[0m \u001B[0mnumpy\u001B[0m \u001B[0;32mas\u001B[0m \u001B[0mnp\u001B[0m\u001B[0;34m\u001B[0m\u001B[0;34m\u001B[0m\u001B[0m\n\u001B[1;32m      4\u001B[0m \u001B[0;32mimport\u001B[0m \u001B[0mpandas\u001B[0m \u001B[0;32mas\u001B[0m \u001B[0mpd\u001B[0m\u001B[0;34m\u001B[0m\u001B[0;34m\u001B[0m\u001B[0m\n\u001B[0;32m----> 5\u001B[0;31m \u001B[0;32mimport\u001B[0m \u001B[0mplotly\u001B[0m\u001B[0;34m.\u001B[0m\u001B[0mgraph_objects\u001B[0m \u001B[0;32mas\u001B[0m \u001B[0mgo\u001B[0m\u001B[0;34m\u001B[0m\u001B[0;34m\u001B[0m\u001B[0m\n\u001B[0m",
      "\u001B[0;31mModuleNotFoundError\u001B[0m: No module named 'plotly'"
     ]
    }
   ],
   "source": [
    "# IMPORTS\n",
    "import matplotlib.pyplot as plt\n",
    "import numpy as np\n",
    "import pandas as pd\n",
    "import plotly.graph_objects as go"
   ],
   "metadata": {
    "collapsed": false,
    "pycharm": {
     "name": "#%%\n"
    }
   }
  },
  {
   "cell_type": "markdown",
   "source": [
    "## Extract the data"
   ],
   "metadata": {
    "collapsed": false,
    "pycharm": {
     "name": "#%% md\n"
    }
   }
  },
  {
   "cell_type": "code",
   "execution_count": 62,
   "outputs": [
    {
     "data": {
      "text/plain": "                 Date     SPY  SPY_Volume     VOO  VOO_Volume     IVV  \\\n680  19/10/2020 21:20  344.89  27951090.0  316.80   1233007.0  346.09   \n681  19/10/2020 21:21  344.88  28161755.0  316.82   1234952.0  346.10   \n682  19/10/2020 21:22  344.99  28254720.0  316.93   1239534.0  346.24   \n683  19/10/2020 21:23  344.99  28303701.0  317.01   1241521.0  346.20   \n684  19/10/2020 21:24  345.06  28355933.0  317.02   1242485.0  346.31   \n..                ...     ...         ...     ...         ...     ...   \n775  19/10/2020 22:55  341.29  54081548.0  313.54   2040943.0  342.49   \n776  19/10/2020 22:56  341.29  54859571.0  313.50   2056012.0  342.43   \n777  19/10/2020 22:57  341.68  55379841.0  313.89   2070632.0  342.82   \n778  19/10/2020 22:58  341.68  55379841.0  313.89   2070632.0  342.82   \n779  19/10/2020 22:59  341.68  55379841.0  313.89   2070632.0  342.82   \n\n     IVV_Volume     QQQ  QQQ_Volume     DIA  ...      FB   FB_Volume     GOOG  \\\n680   1640331.0  286.53  19973872.0  284.13  ...  263.16   8155181.0  1552.78   \n681   1641733.0  286.51  20024474.0  284.19  ...  263.18   8162445.0  1552.71   \n682   1644829.0  286.56  20076945.0  284.21  ...  263.25   8173970.0  1552.71   \n683   1648651.0  286.50  20126247.0  284.28  ...  263.25   8180162.0  1552.71   \n684   1650096.0  286.64  20169447.0  284.31  ...  263.29   8186541.0  1552.71   \n..          ...     ...         ...     ...  ...     ...         ...      ...   \n775   2644174.0  283.13  32090043.0  281.57  ...  260.50  11224918.0  1532.77   \n776   2655776.0  283.15  32326301.0  281.48  ...  260.77  11293048.0  1533.07   \n777   2701418.0  283.47  32570226.0  281.86  ...  261.20  11397864.0  1533.81   \n778   2701418.0  283.47  32570226.0  281.86  ...  261.27  11503748.0  1534.45   \n779   2701418.0  283.47  32570226.0  281.86  ...  261.16  11663108.0  1533.01   \n\n     GOOG_Volume    GOOGL  GOOGL_Volume    NFLX  NFLX_Volume    TSLA  \\\n680     749651.0  1548.01      825794.0  537.54    4892780.0  439.14   \n681     749997.0  1548.49      826337.0  537.29    4896946.0  439.10   \n682     750155.0  1548.04      826971.0  537.71    4907874.0  438.76   \n683     750240.0  1547.84      827857.0  537.86    4914004.0  438.60   \n684     750665.0  1547.79      828860.0  538.37    4930290.0  438.55   \n..           ...      ...           ...     ...          ...     ...   \n775    1130528.0  1529.10     1209745.0  529.06    6823182.0  431.43   \n776    1141137.0  1528.92     1221249.0  529.21    6847679.0  431.77   \n777    1162321.0  1530.39     1229702.0  530.10    6887907.0  432.50   \n778    1183950.0  1530.89     1244381.0  530.50    6939163.0  431.23   \n779    1216407.0  1529.75     1278664.0  530.21    6999635.0  430.57   \n\n     TSLA_Volume  \n680   25454934.0  \n681   25516998.0  \n682   25567182.0  \n683   25619265.0  \n684   25671078.0  \n..           ...  \n775   34131209.0  \n776   34267845.0  \n777   34381630.0  \n778   34550660.0  \n779   34861955.0  \n\n[100 rows x 47 columns]",
      "text/html": "<div>\n<style scoped>\n    .dataframe tbody tr th:only-of-type {\n        vertical-align: middle;\n    }\n\n    .dataframe tbody tr th {\n        vertical-align: top;\n    }\n\n    .dataframe thead th {\n        text-align: right;\n    }\n</style>\n<table border=\"1\" class=\"dataframe\">\n  <thead>\n    <tr style=\"text-align: right;\">\n      <th></th>\n      <th>Date</th>\n      <th>SPY</th>\n      <th>SPY_Volume</th>\n      <th>VOO</th>\n      <th>VOO_Volume</th>\n      <th>IVV</th>\n      <th>IVV_Volume</th>\n      <th>QQQ</th>\n      <th>QQQ_Volume</th>\n      <th>DIA</th>\n      <th>...</th>\n      <th>FB</th>\n      <th>FB_Volume</th>\n      <th>GOOG</th>\n      <th>GOOG_Volume</th>\n      <th>GOOGL</th>\n      <th>GOOGL_Volume</th>\n      <th>NFLX</th>\n      <th>NFLX_Volume</th>\n      <th>TSLA</th>\n      <th>TSLA_Volume</th>\n    </tr>\n  </thead>\n  <tbody>\n    <tr>\n      <th>680</th>\n      <td>19/10/2020 21:20</td>\n      <td>344.89</td>\n      <td>27951090.0</td>\n      <td>316.80</td>\n      <td>1233007.0</td>\n      <td>346.09</td>\n      <td>1640331.0</td>\n      <td>286.53</td>\n      <td>19973872.0</td>\n      <td>284.13</td>\n      <td>...</td>\n      <td>263.16</td>\n      <td>8155181.0</td>\n      <td>1552.78</td>\n      <td>749651.0</td>\n      <td>1548.01</td>\n      <td>825794.0</td>\n      <td>537.54</td>\n      <td>4892780.0</td>\n      <td>439.14</td>\n      <td>25454934.0</td>\n    </tr>\n    <tr>\n      <th>681</th>\n      <td>19/10/2020 21:21</td>\n      <td>344.88</td>\n      <td>28161755.0</td>\n      <td>316.82</td>\n      <td>1234952.0</td>\n      <td>346.10</td>\n      <td>1641733.0</td>\n      <td>286.51</td>\n      <td>20024474.0</td>\n      <td>284.19</td>\n      <td>...</td>\n      <td>263.18</td>\n      <td>8162445.0</td>\n      <td>1552.71</td>\n      <td>749997.0</td>\n      <td>1548.49</td>\n      <td>826337.0</td>\n      <td>537.29</td>\n      <td>4896946.0</td>\n      <td>439.10</td>\n      <td>25516998.0</td>\n    </tr>\n    <tr>\n      <th>682</th>\n      <td>19/10/2020 21:22</td>\n      <td>344.99</td>\n      <td>28254720.0</td>\n      <td>316.93</td>\n      <td>1239534.0</td>\n      <td>346.24</td>\n      <td>1644829.0</td>\n      <td>286.56</td>\n      <td>20076945.0</td>\n      <td>284.21</td>\n      <td>...</td>\n      <td>263.25</td>\n      <td>8173970.0</td>\n      <td>1552.71</td>\n      <td>750155.0</td>\n      <td>1548.04</td>\n      <td>826971.0</td>\n      <td>537.71</td>\n      <td>4907874.0</td>\n      <td>438.76</td>\n      <td>25567182.0</td>\n    </tr>\n    <tr>\n      <th>683</th>\n      <td>19/10/2020 21:23</td>\n      <td>344.99</td>\n      <td>28303701.0</td>\n      <td>317.01</td>\n      <td>1241521.0</td>\n      <td>346.20</td>\n      <td>1648651.0</td>\n      <td>286.50</td>\n      <td>20126247.0</td>\n      <td>284.28</td>\n      <td>...</td>\n      <td>263.25</td>\n      <td>8180162.0</td>\n      <td>1552.71</td>\n      <td>750240.0</td>\n      <td>1547.84</td>\n      <td>827857.0</td>\n      <td>537.86</td>\n      <td>4914004.0</td>\n      <td>438.60</td>\n      <td>25619265.0</td>\n    </tr>\n    <tr>\n      <th>684</th>\n      <td>19/10/2020 21:24</td>\n      <td>345.06</td>\n      <td>28355933.0</td>\n      <td>317.02</td>\n      <td>1242485.0</td>\n      <td>346.31</td>\n      <td>1650096.0</td>\n      <td>286.64</td>\n      <td>20169447.0</td>\n      <td>284.31</td>\n      <td>...</td>\n      <td>263.29</td>\n      <td>8186541.0</td>\n      <td>1552.71</td>\n      <td>750665.0</td>\n      <td>1547.79</td>\n      <td>828860.0</td>\n      <td>538.37</td>\n      <td>4930290.0</td>\n      <td>438.55</td>\n      <td>25671078.0</td>\n    </tr>\n    <tr>\n      <th>...</th>\n      <td>...</td>\n      <td>...</td>\n      <td>...</td>\n      <td>...</td>\n      <td>...</td>\n      <td>...</td>\n      <td>...</td>\n      <td>...</td>\n      <td>...</td>\n      <td>...</td>\n      <td>...</td>\n      <td>...</td>\n      <td>...</td>\n      <td>...</td>\n      <td>...</td>\n      <td>...</td>\n      <td>...</td>\n      <td>...</td>\n      <td>...</td>\n      <td>...</td>\n      <td>...</td>\n    </tr>\n    <tr>\n      <th>775</th>\n      <td>19/10/2020 22:55</td>\n      <td>341.29</td>\n      <td>54081548.0</td>\n      <td>313.54</td>\n      <td>2040943.0</td>\n      <td>342.49</td>\n      <td>2644174.0</td>\n      <td>283.13</td>\n      <td>32090043.0</td>\n      <td>281.57</td>\n      <td>...</td>\n      <td>260.50</td>\n      <td>11224918.0</td>\n      <td>1532.77</td>\n      <td>1130528.0</td>\n      <td>1529.10</td>\n      <td>1209745.0</td>\n      <td>529.06</td>\n      <td>6823182.0</td>\n      <td>431.43</td>\n      <td>34131209.0</td>\n    </tr>\n    <tr>\n      <th>776</th>\n      <td>19/10/2020 22:56</td>\n      <td>341.29</td>\n      <td>54859571.0</td>\n      <td>313.50</td>\n      <td>2056012.0</td>\n      <td>342.43</td>\n      <td>2655776.0</td>\n      <td>283.15</td>\n      <td>32326301.0</td>\n      <td>281.48</td>\n      <td>...</td>\n      <td>260.77</td>\n      <td>11293048.0</td>\n      <td>1533.07</td>\n      <td>1141137.0</td>\n      <td>1528.92</td>\n      <td>1221249.0</td>\n      <td>529.21</td>\n      <td>6847679.0</td>\n      <td>431.77</td>\n      <td>34267845.0</td>\n    </tr>\n    <tr>\n      <th>777</th>\n      <td>19/10/2020 22:57</td>\n      <td>341.68</td>\n      <td>55379841.0</td>\n      <td>313.89</td>\n      <td>2070632.0</td>\n      <td>342.82</td>\n      <td>2701418.0</td>\n      <td>283.47</td>\n      <td>32570226.0</td>\n      <td>281.86</td>\n      <td>...</td>\n      <td>261.20</td>\n      <td>11397864.0</td>\n      <td>1533.81</td>\n      <td>1162321.0</td>\n      <td>1530.39</td>\n      <td>1229702.0</td>\n      <td>530.10</td>\n      <td>6887907.0</td>\n      <td>432.50</td>\n      <td>34381630.0</td>\n    </tr>\n    <tr>\n      <th>778</th>\n      <td>19/10/2020 22:58</td>\n      <td>341.68</td>\n      <td>55379841.0</td>\n      <td>313.89</td>\n      <td>2070632.0</td>\n      <td>342.82</td>\n      <td>2701418.0</td>\n      <td>283.47</td>\n      <td>32570226.0</td>\n      <td>281.86</td>\n      <td>...</td>\n      <td>261.27</td>\n      <td>11503748.0</td>\n      <td>1534.45</td>\n      <td>1183950.0</td>\n      <td>1530.89</td>\n      <td>1244381.0</td>\n      <td>530.50</td>\n      <td>6939163.0</td>\n      <td>431.23</td>\n      <td>34550660.0</td>\n    </tr>\n    <tr>\n      <th>779</th>\n      <td>19/10/2020 22:59</td>\n      <td>341.68</td>\n      <td>55379841.0</td>\n      <td>313.89</td>\n      <td>2070632.0</td>\n      <td>342.82</td>\n      <td>2701418.0</td>\n      <td>283.47</td>\n      <td>32570226.0</td>\n      <td>281.86</td>\n      <td>...</td>\n      <td>261.16</td>\n      <td>11663108.0</td>\n      <td>1533.01</td>\n      <td>1216407.0</td>\n      <td>1529.75</td>\n      <td>1278664.0</td>\n      <td>530.21</td>\n      <td>6999635.0</td>\n      <td>430.57</td>\n      <td>34861955.0</td>\n    </tr>\n  </tbody>\n</table>\n<p>100 rows × 47 columns</p>\n</div>"
     },
     "execution_count": 62,
     "metadata": {},
     "output_type": "execute_result"
    }
   ],
   "source": [
    "data = pd.read_csv('data/real_data_2_days.csv')\n",
    "data.tail(100)"
   ],
   "metadata": {
    "collapsed": false,
    "pycharm": {
     "name": "#%%\n"
    }
   }
  },
  {
   "cell_type": "code",
   "execution_count": 61,
   "outputs": [
    {
     "data": {
      "text/plain": "680    27951090.0\n681    28161755.0\n682    28254720.0\n683    28303701.0\n684    28355933.0\n          ...    \n775    54081548.0\n776    54859571.0\n777    55379841.0\n778    55379841.0\n779    55379841.0\nName: SPY_Volume, Length: 100, dtype: float64"
     },
     "execution_count": 61,
     "metadata": {},
     "output_type": "execute_result"
    }
   ],
   "source": [
    "spy_data = data['SPY']\n",
    "spy_volume_data = data['SPY_Volume']\n",
    "spy_volume_data.tail(100)"
   ],
   "metadata": {
    "collapsed": false,
    "pycharm": {
     "name": "#%%\n"
    }
   }
  },
  {
   "cell_type": "code",
   "execution_count": 66,
   "outputs": [
    {
     "data": {
      "text/plain": "<Figure size 960x288 with 2 Axes>",
      "image/png": "[encoded data removed]"
     },
     "metadata": {
      "needs_background": "light"
     },
     "output_type": "display_data"
    },
    {
     "name": "stdout",
     "output_type": "stream",
     "text": [
      "[727909.0, 304058.0, 295229.0, 536504.0, 669404.0, 723118.0, 778023.0, 520270.0, 0.0, 0.0]\n"
     ]
    }
   ],
   "source": [
    "spy_data = data['SPY']\n",
    "spy_volume_data = data['SPY_Volume']\n",
    "\n",
    "# undo cumsum to volume\n",
    "spy_volume_data_2 = []\n",
    "for vol_index in range(1, len(spy_volume_data)):\n",
    "    next_var = spy_volume_data[vol_index]\n",
    "    prev_var = spy_volume_data[vol_index-1]\n",
    "    if next_var >= prev_var:\n",
    "        spy_volume_data_2.append(next_var - prev_var)\n",
    "    else:\n",
    "        spy_volume_data_2.append(next_var)\n",
    "\n",
    "fig = plt.figure(figsize=plt.figaspect(.3))\n",
    "ax_1 = fig.add_subplot(1, 2, 1)\n",
    "ax_2 = fig.add_subplot(1, 2, 2)\n",
    "# index_spy, spy_to_plot = zip(*spy_data)\n",
    "# index_spy_v, spy_to_plot_v = zip(*spy_volume_data)\n",
    "\n",
    "ax_1.plot(spy_data.index, spy_data.values)\n",
    "ax_1.set_title('price')\n",
    "\n",
    "ax_2.bar(range(len(spy_volume_data_2)-2), spy_volume_data_2[:-2])\n",
    "ax_2.set_title('volume')\n",
    "\n",
    "plt.show()\n",
    "print(spy_volume_data_2[-10:])"
   ],
   "metadata": {
    "collapsed": false,
    "pycharm": {
     "name": "#%%\n"
    }
   }
  },
  {
   "cell_type": "markdown",
   "source": [
    "## (a) Form tick, volume, and dollar bars."
   ],
   "metadata": {
    "collapsed": false
   }
  },
  {
   "cell_type": "markdown",
   "source": [
    "### Tick Bars"
   ],
   "metadata": {
    "collapsed": false
   }
  },
  {
   "cell_type": "code",
   "execution_count": 9,
   "outputs": [
    {
     "data": {
      "text/plain": "[<matplotlib.lines.Line2D at 0x7f83eaba16d0>]"
     },
     "execution_count": 9,
     "metadata": {},
     "output_type": "execute_result"
    },
    {
     "data": {
      "text/plain": "<Figure size 432x288 with 1 Axes>",
      "image/png": "[encoded data removed]"
     },
     "metadata": {
      "needs_background": "light"
     },
     "output_type": "display_data"
    }
   ],
   "source": [
    "k = 10\n",
    "ticks = []\n",
    "counter = 0\n",
    "for bar in spy_data:\n",
    "    counter += 1\n",
    "    if counter % 10 == 0:\n",
    "        ticks.append(bar)\n",
    "\n",
    "plt.plot(ticks)"
   ],
   "metadata": {
    "collapsed": false,
    "pycharm": {
     "name": "#%%\n"
    }
   }
  },
  {
   "cell_type": "markdown",
   "source": [
    "### Volume Bars"
   ],
   "metadata": {
    "collapsed": false
   }
  },
  {
   "cell_type": "code",
   "execution_count": null,
   "outputs": [],
   "source": [],
   "metadata": {
    "collapsed": false,
    "pycharm": {
     "name": "#%%\n"
    }
   }
  },
  {
   "cell_type": "markdown",
   "source": [
    "### Dollar Bars"
   ],
   "metadata": {
    "collapsed": false,
    "pycharm": {
     "name": "#%% md\n"
    }
   }
  },
  {
   "cell_type": "code",
   "execution_count": null,
   "outputs": [],
   "source": [],
   "metadata": {
    "collapsed": false,
    "pycharm": {
     "name": "#%%\n"
    }
   }
  },
  {
   "cell_type": "markdown",
   "source": [
    "## (b) Count the number of bars produced by tick, volume, and dollar bars on a weekly basis. Plot a time series of that bar count. What bar type produces the most stable weekly count? Why?"
   ],
   "metadata": {
    "collapsed": false
   }
  },
  {
   "cell_type": "markdown",
   "source": [
    "## (c) Compute the serial correlation of returns for the three bar types. What bar method has the lowest serial correlation?"
   ],
   "metadata": {
    "collapsed": false
   }
  },
  {
   "cell_type": "markdown",
   "source": [
    "## (d) Partition the bar series into monthly subsets. Compute the variance of returns for every subset of every bar type. Compute the variance of those variances. What method exhibits the smallest variance of variances?"
   ],
   "metadata": {
    "collapsed": false
   }
  },
  {
   "cell_type": "markdown",
   "source": [
    "## (e) Apply the Jarque-Bera normality test on returns from the three bar types. What method achieves the lowest test statistic?"
   ],
   "metadata": {
    "collapsed": false
   }
  },
  {
   "cell_type": "markdown",
   "source": [
    "## 2.2 On a series of E-mini S&P 500 futures tick data, compute dollar bars and dollar imbalance bars. What bar type exhibits greater serial correlation? Why?"
   ],
   "metadata": {
    "collapsed": false
   }
  },
  {
   "cell_type": "markdown",
   "source": [
    "## ADF test"
   ],
   "metadata": {
    "collapsed": false
   }
  },
  {
   "cell_type": "markdown",
   "source": [
    "## CUSUM filter"
   ],
   "metadata": {
    "collapsed": false
   }
  },
  {
   "cell_type": "code",
   "execution_count": 8,
   "outputs": [],
   "source": [],
   "metadata": {
    "collapsed": false,
    "pycharm": {
     "name": "#%%\n"
    }
   }
  },
  {
   "cell_type": "code",
   "execution_count": 8,
   "outputs": [],
   "source": [],
   "metadata": {
    "collapsed": false,
    "pycharm": {
     "name": "#%%\n"
    }
   }
  },
  {
   "cell_type": "code",
   "execution_count": 8,
   "outputs": [],
   "source": [],
   "metadata": {
    "collapsed": false,
    "pycharm": {
     "name": "#%%\n"
    }
   }
  },
  {
   "cell_type": "code",
   "execution_count": 8,
   "outputs": [],
   "source": [],
   "metadata": {
    "collapsed": false,
    "pycharm": {
     "name": "#%%\n"
    }
   }
  },
  {
   "cell_type": "code",
   "execution_count": null,
   "outputs": [],
   "source": [],
   "metadata": {
    "collapsed": false,
    "pycharm": {
     "name": "#%%\n"
    }
   }
  }
 ],
 "metadata": {
  "kernelspec": {
   "display_name": "Python 3",
   "language": "python",
   "name": "python3"
  },
  "language_info": {
   "codemirror_mode": {
    "name": "ipython",
    "version": 2
   },
   "file_extension": ".py",
   "mimetype": "text/x-python",
   "name": "python",
   "nbconvert_exporter": "python",
   "pygments_lexer": "ipython2",
   "version": "2.7.6"
  }
 },
 "nbformat": 4,
 "nbformat_minor": 0
}